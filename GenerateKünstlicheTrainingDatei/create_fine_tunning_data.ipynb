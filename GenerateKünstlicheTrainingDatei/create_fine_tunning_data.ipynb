{
 "cells": [
  {
   "cell_type": "code",
   "execution_count": null,
   "metadata": {},
   "outputs": [],
   "source": [
    "%pip install PyMuPDF \n",
    "%pip install pandas "
   ]
  },
  {
   "cell_type": "code",
   "execution_count": null,
   "metadata": {},
   "outputs": [],
   "source": [
    "import pymupdf\n",
    "import json\n",
    "import csv\n",
    "import pandas as pd\n",
    "import glob\n",
    "import os"
   ]
  },
  {
   "cell_type": "code",
   "execution_count": null,
   "metadata": {},
   "outputs": [],
   "source": [
    "import google.generativeai as genai"
   ]
  },
  {
   "cell_type": "code",
   "execution_count": null,
   "metadata": {},
   "outputs": [],
   "source": [
    "import os\n",
    "from dotenv import load_dotenv\n",
    "\n",
    "# .env dosyasını yükle\n",
    "load_dotenv()\n",
    "\n",
    "# Değişkenleri oku\n",
    "api_key = os.getenv(\"GOOGLE_API_KEY\")\n",
    "\n"
   ]
  },
  {
   "cell_type": "code",
   "execution_count": null,
   "metadata": {},
   "outputs": [],
   "source": [
    "genai.configure(api_key=api_key)\n",
    "generate_config = {\n",
    "    \"temperature\": 0.5,\n",
    "    \"top_p\":0.95,\n",
    "    \"top_k\":64,\n",
    "    \"max_output_tokens\": 8192,\n",
    "    \"response_mime_type\":\"application/json\"\n",
    "}"
   ]
  },
  {
   "cell_type": "code",
   "execution_count": null,
   "metadata": {},
   "outputs": [],
   "source": [
    "class Agent:\n",
    "    \n",
    "    def __init__(self, name, role):\n",
    "        self.name = name\n",
    "        self.role = role\n",
    "        self.model = genai.GenerativeModel('gemini-1.5-flash',\n",
    "                                           generation_config=generate_config,\n",
    "                                           system_instruction=role)\n",
    "        \n",
    "            \n",
    "    def generate_response(self, prompt):\n",
    "        try:\n",
    "            response = self.model.generate_content(prompt)\n",
    "            print(\"Response generated\")\n",
    "            print(\"response : \", response.text)\n",
    "        except Exception as e:\n",
    "            print(f\"Generate response failed: {e}\")\n",
    "        \n",
    "        return response.text  # Başarılıysa yanıtı döndür\n",
    "        \n",
    "            \n",
    "        \n",
    "        "
   ]
  },
  {
   "cell_type": "code",
   "execution_count": null,
   "metadata": {},
   "outputs": [],
   "source": [
    "QA_role = \"\"\"\n",
    "# Your Role \n",
    "Your are a highly intelligent AI tasked with generating a diverse and high-quality set of questions and answers from a provided document page.  \n",
    "Your goal is imitate how a curious human would engage with the material by asking insightful, challenging, and varied types of questions.\n",
    "\n",
    "# Instructions:\n",
    "Given a page text of a document, generate high-quality question-answer pairs in JSON format. \n",
    "Each pair must contain the fields question, answer and qustion type.\n",
    "\n",
    "## Ensure that:\n",
    "### Language Consistency: The questions and ansers must be in the same language as the given text.\n",
    "for example if the provided text in Turkish the question and answers must be in Turkish as well.\n",
    "### Question Variety: Include multiple types of questions such as:\n",
    "\n",
    "Factual: Direct question seeking specific information(e.g., \"what does X mean?\")\n",
    "Conceptual: Questions exploring the ideas or principles behind the content (e.g., \"Why is X important?\")\n",
    "Contextual: Questions about the broader context or background of the topic (e.g., \"in What context is X mentioned?\")\n",
    "Causal: Questions asking about reasons or causes (e.g., \"what causes X to happen?)\n",
    "Procedural: Questions focused on processes or steps (e.g., \"how is X achieved?\")\n",
    "Analytical: Questions comparing, contrasting, or evaluating elements (e.g., \"how does X compare to Y?\")\n",
    "Hypothetical: Questions based on imagined scenarios (e.g., \"what would happen if x?\")\n",
    "Reflective: Questions about implications or consequences (e.g., \"what implications does X have?\")\n",
    "Speculativa: Opinion-based or exploratory questions when apprapriate (e.g., \"why might somoone disagree withh X?\")\n",
    "Listing: Questions asking for a list of items, steps or elements related to a topic (e.g., \"What are the key elements of X?\")\n",
    "Sumarizing: Questions asking for a brief summary or the mein points of a topic (e.g., \"what is the main takeaway from X?\")\n",
    "Balanced Difficulty: Include simple, intermediate, and complex questions.\n",
    "\n",
    "\n",
    "### Answer Precision: Provide concise, accurate answers directly based on the provided content.\n",
    "However, ensure that the answers are not too short; they should give enough context to explain the answer clearly while maintaining clarity and completeness.\n",
    "\n",
    "### Context Awareness: Ensure all questions are deeply rooted in the content of the provided text and demonstrate an understanding of its meaning, themes, and nuances.\n",
    "\n",
    "### Avoid Redundancy: Ensure all questions are distinct and unique.\n",
    "\n",
    "### Avoid generelly Questions: Generate specific questions that can be answered based on the given text, rather than general questions like \"What is the main theme of this text?\" or \"What is the main idea of this text?\"\n",
    "\n",
    "## Output Format: Return the result as a JSON object structured as follows:\n",
    "\n",
    "json\n",
    "\n",
    "[\n",
    "    {\n",
    "        \"question\": \"What is the definition of X?\",\n",
    "        \"answer\": \"X is defined as ...\",\n",
    "        \"questin_type\": \"Factual\"\n",
    "    },\n",
    "    {\n",
    "        \"question\": \"Why is X considered significant?\",\n",
    "        \"answer\": \"X is significant because ...\",\n",
    "        \"questin_type\": \"Conceptual\"\n",
    "    }\n",
    "    \n",
    "    // Continue until reaching the specified number of questions\n",
    "]\n",
    "\n",
    "\n",
    "\"\"\""
   ]
  },
  {
   "cell_type": "code",
   "execution_count": null,
   "metadata": {},
   "outputs": [],
   "source": [
    "class QA_agent(Agent):\n",
    "    def prepare_QA(self, text, number_of_questions):\n",
    "        print(\"prepare_QA started\")\n",
    "        prompt = f\"\"\"\n",
    "        Given the text below, generate {number_of_questions} high-quality question-answer pairs in JSON format. Each pair must contain the fields question, answer, and question_type.\n",
    "        Ensure generating various types of questions.  \n",
    "        Identify the text language first, the prepare the question-answer pairs in the same language.  \n",
    "        ------------------------------\n",
    "        Text: {text}\n",
    "        Number of questions and answer pairs: {number_of_questions}\n",
    "        ------------------------------\n",
    "        \"\"\"\n",
    "        print(\"prepare_QA fnished\")\n",
    "        return self.generate_response(prompt)"
   ]
  },
  {
   "cell_type": "code",
   "execution_count": null,
   "metadata": {},
   "outputs": [],
   "source": [
    "def generate_QA(qa_agent, text, answer_type):\n",
    "    question_answer = qa_agent.prepare_QA(text, number_of_questions)\n",
    "    return question_answer"
   ]
  },
  {
   "cell_type": "code",
   "execution_count": null,
   "metadata": {},
   "outputs": [],
   "source": [
    "def saveCSV(filename):\n",
    "    \"\"\" save qa_list as a csv file named filename.csv\"\"\"\n",
    "    # write qa_list to a csv file\n",
    "    with open(filename + \".csv\", \"w\", newline=\"\", encoding=\"utf-8\") as csvfile:\n",
    "        fieldnames = [\"question\", \"answer\", \"question_type\"]\n",
    "        writer = csv.DictWriter(csvfile, fieldnames=fieldnames)\n",
    "        writer.writeheader()\n",
    "        for item in qa_list:\n",
    "            writer.writerow(item)\n",
    "        "
   ]
  },
  {
   "cell_type": "code",
   "execution_count": null,
   "metadata": {},
   "outputs": [],
   "source": [
    "def convert_pdf_to_text(pdf_file_name):\n",
    "    \"\"\" Convert a PDF file to text and return a list of page texts.\n",
    "    \n",
    "    Args:\n",
    "        pdf_file_name: The name of the PDF file.\n",
    "        \n",
    "    Returns:\n",
    "        A list of strings, where each string represents the teyt of a page. \n",
    "        Returns an empty list if the file is not found or an error occurs.\n",
    "    \"\"\"\n",
    "    \n",
    "    doc = pymupdf.open(pdf_file_name)\n",
    "    print(\"Document has \", doc.page_count, \"pages\")\n",
    "    page_texts = []\n",
    "    for page in doc:\n",
    "        page_texts.append(page.get_text())\n",
    "    return page_texts"
   ]
  },
  {
   "cell_type": "code",
   "execution_count": null,
   "metadata": {},
   "outputs": [],
   "source": [
    "if __name__ == \"__main__\":\n",
    "    qa_list = []\n",
    "    qa_agent = QA_agent(\"QA_agent\", QA_role)\n",
    "    number_of_questions =2\n",
    "    pdf_name= \"./pdf/yolharitasi.pdf\"\n",
    "    pages = convert_pdf_to_text(pdf_name)\n",
    "    csv_name = pdf_name.split(\".\")[1].split('/')[-1]\n",
    "    start_page = 0\n",
    "    end_page = len(pages)\n",
    "    batch_size = 5\n",
    "    \n",
    "    for i in range(start_page, end_page, batch_size):\n",
    "        #process pages in batches\n",
    "        batch_pages = pages[i:min(i+batch_size, end_page)]\n",
    "        print(f\"Batch {i//batch_size + 1} started\")\n",
    "        for page in batch_pages:\n",
    "            while True:\n",
    "                generated_QA = generate_QA(qa_agent, page, number_of_questions)\n",
    "                try:\n",
    "                    generate_QA_JSON = json.loads(generated_QA)\n",
    "                    break\n",
    "                except json.JSONDecodeError as e:\n",
    "                    print(f\"Error decoding JSON: {e}\")\n",
    "                    print(f\"Problematic string: {generated_QA}\")\n",
    "                    print(\"Retrying...\")\n",
    "            \n",
    "            qa_list.extend(generate_QA_JSON)\n",
    "            print(f\"a page in the batch processed...\")\n",
    "        print(f\"Batch {i // batch_size +1} finished\")\n",
    "        saveCSV(f\"csv/{csv_name}_batch {i// batch_size +1}\")\n",
    "        print(f\"{csv_name}_batch {i// batch_size +1} saved...\")\n",
    "        qa_list = []\n",
    "  "
   ]
  },
  {
   "cell_type": "code",
   "execution_count": 50,
   "metadata": {},
   "outputs": [
    {
     "name": "stdout",
     "output_type": "stream",
     "text": [
      "Merged CSV file saved as merged_output.csv\n"
     ]
    }
   ],
   "source": [
    "import os\n",
    "import pandas as pd\n",
    "\n",
    "def merge_csv_files(input_folder, output_file):\n",
    "    all_files = [f for f in os.listdir(input_folder) if f.endswith('.csv')]\n",
    "    \n",
    "    if not all_files:\n",
    "        print(\"No CSV files found in the directory.\")\n",
    "        return\n",
    "    \n",
    "    dataframes = [pd.read_csv(os.path.join(input_folder, file)) for file in all_files]\n",
    "    merged_df = pd.concat(dataframes, ignore_index=True)\n",
    "    \n",
    "    merged_df.to_csv(output_file, index=False)\n",
    "    print(f\"Merged CSV file saved as {output_file}\")\n",
    "\n",
    "# Kullanım\n",
    "directory = \"csv\"  # CSV dosyalarının bulunduğu klasör\n",
    "destination_file = \"merged_output.csv\"  # Çıktı dosyası adı\n",
    "\n",
    "merge_csv_files(directory, destination_file)\n"
   ]
  }
 ],
 "metadata": {
  "kernelspec": {
   "display_name": "venv",
   "language": "python",
   "name": "python3"
  },
  "language_info": {
   "codemirror_mode": {
    "name": "ipython",
    "version": 3
   },
   "file_extension": ".py",
   "mimetype": "text/x-python",
   "name": "python",
   "nbconvert_exporter": "python",
   "pygments_lexer": "ipython3",
   "version": "3.12.7"
  }
 },
 "nbformat": 4,
 "nbformat_minor": 2
}
