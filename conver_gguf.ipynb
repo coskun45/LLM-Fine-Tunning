{
 "cells": [
  {
   "cell_type": "code",
   "execution_count": null,
   "metadata": {},
   "outputs": [],
   "source": [
    "import os\n",
    "from dotenv import load_dotenv\n",
    "\n",
    "# .env dosyasını yükle\n",
    "load_dotenv()\n",
    "\n",
    "# Ortam değişkenini al\n",
    "HF_TOKEN = os.getenv(\"HF_TOKEN\")\n",
    "\n",
    "HF_TOKEN\n"
   ]
  },
  {
   "cell_type": "code",
   "execution_count": null,
   "metadata": {},
   "outputs": [],
   "source": [
    "# using finegetuned model from hf\n",
    "\n",
    "max_seq_length = 2048\n",
    "dtype = None\n",
    "load_in_4bit = True\n",
    "\n",
    "if True:\n",
    "  from unsloth import FastLanguageModel\n",
    "  model, tokenizer = FastLanguageModel.from_pretrained(\n",
    "      model_name = \"coskun45/hocagpt-lora-Llama-3.8\",\n",
    "      max_seq_length = max_seq_length,\n",
    "      dtype = dtype,\n",
    "      load_in_4bit = load_in_4bit,\n",
    "      token= HF_TOKEN\n",
    "  )\n",
    "  FastLanguageModel.for_inference(model) # Enable native 2x faster inference\n",
    "  pass"
   ]
  },
  {
   "cell_type": "code",
   "execution_count": null,
   "metadata": {},
   "outputs": [],
   "source": [
    "hf_repo_name = \"coskun45\"\n",
    "hf_model_name = \"hoca-llama-3-8b-gguf\"\n",
    "hf_addr = f\"{hf_repo_name}/{hf_model_name}\"\n",
    "\n",
    "# save to 8bit Q8_0\n",
    "if False: model.save_pretrained"
   ]
  }
 ],
 "metadata": {
  "kernelspec": {
   "display_name": "venv",
   "language": "python",
   "name": "python3"
  },
  "language_info": {
   "codemirror_mode": {
    "name": "ipython",
    "version": 3
   },
   "file_extension": ".py",
   "mimetype": "text/x-python",
   "name": "python",
   "nbconvert_exporter": "python",
   "pygments_lexer": "ipython3",
   "version": "3.12.7"
  }
 },
 "nbformat": 4,
 "nbformat_minor": 2
}
